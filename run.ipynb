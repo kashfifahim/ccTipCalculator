{
 "cells": [
  {
   "cell_type": "code",
   "execution_count": null,
   "metadata": {},
   "outputs": [],
   "source": [
    "from os import getenv\n",
    "from pathlib import Path\n",
    "\n",
    "input_folder = Path(getenv(\n",
    "    'CROSSCOMPUTE_INPUT_FOLDER', 'presets/ten/input'))\n",
    "output_folder = Path(getenv(\n",
    "    'CROSSCOMPUTE_OUTPUT_FOLDER', 'presets/ten/output'))"
   ]
  },
  {
   "cell_type": "code",
   "execution_count": null,
   "metadata": {},
   "outputs": [],
   "source": [
    "# Load input variables from input folder\n",
    "with (input_folder / 'variables.dictionary').open('rt') as f:\n",
    "    variables = json.load(f)"
   ]
  },
  {
   "cell_type": "code",
   "execution_count": null,
   "metadata": {},
   "outputs": [],
   "source": [
    "# Perform calculation\n",
    "bill_amount = variables_dictionary['bill_amount']\n",
    "tip_percentage = variables_dictionary['tip_percentage']"
   ]
  },
  {
   "cell_type": "code",
   "execution_count": null,
   "metadata": {},
   "outputs": [],
   "source": [
    "import math\n",
    "\n",
    "result = []\n",
    "tip_amount = bill_amount * tip_percentage\n",
    "result.append(tip_amount)\n",
    "total_bill = bill_amount + tip_amount\n",
    "result.append(total_bill)"
   ]
  },
  {
   "cell_type": "code",
   "execution_count": null,
   "metadata": {},
   "outputs": [],
   "source": [
    "# Save output variables to output folder\n",
    "with (output_folder / 'values.json').open('wt') as f:\n",
    "    json.dump({\n",
    "        'tip_amount': tip_amount,\n",
    "        'total_bill': total_bill,\n",
    "    }, f)"
   ]
  }
 ],
 "metadata": {
  "language_info": {
   "name": "python"
  }
 },
 "nbformat": 4,
 "nbformat_minor": 2
}
